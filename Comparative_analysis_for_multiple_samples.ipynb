{
 "cells": [
  {
   "cell_type": "code",
   "execution_count": null,
   "id": "f14b13c2-50c4-44ea-bac3-e57a94c5a598",
   "metadata": {
    "scrolled": true
   },
   "outputs": [],
   "source": [
    "import sys\n",
    "import stereo as st\n",
    "import pandas as pd\n",
    "import numpy as np"
   ]
  },
  {
   "cell_type": "code",
   "execution_count": null,
   "id": "839025a2-233f-41b1-845e-7575b714044d",
   "metadata": {},
   "outputs": [],
   "source": [
    "# read data\n",
    "data1 = st.io.read_gef('./B03208C214.tissue.gef', bin_size=20)\n",
    "data2 = st.io.read_gef('./B03208F213.tissue.gef', bin_size=20)\n",
    "data3 = st.io.read_gef('./B03208G312.tissue.gef', bin_size=20)\n",
    "data4 = st.io.read_gef('./B03208A213.tissue.gef', bin_size=20)\n"
   ]
  },
  {
   "cell_type": "markdown",
   "id": "43e0ff13-d19e-476a-8b2b-c81f78f52d69",
   "metadata": {},
   "source": [
    "# Preprocessing"
   ]
  },
  {
   "cell_type": "code",
   "execution_count": null,
   "id": "94306b33-2692-41a5-aa53-a88573b1bd9d",
   "metadata": {
    "scrolled": true
   },
   "outputs": [],
   "source": [
    "data1.tl.cal_qc()\n",
    "data2.tl.cal_qc()\n",
    "data3.tl.cal_qc()\n",
    "data4.tl.cal_qc()"
   ]
  },
  {
   "cell_type": "markdown",
   "id": "1a99694c-c22a-4e29-860b-b0e95ecb2481",
   "metadata": {},
   "source": [
    "# plot before filtering"
   ]
  },
  {
   "cell_type": "code",
   "execution_count": null,
   "id": "6f85435a-ff7e-498b-8589-744b1e42e9d6",
   "metadata": {
    "scrolled": true
   },
   "outputs": [],
   "source": [
    "data1.plt.genes_count()"
   ]
  },
  {
   "cell_type": "code",
   "execution_count": null,
   "id": "ef8f88c4-580f-4fe4-a6a3-59e90aff4a34",
   "metadata": {
    "scrolled": true
   },
   "outputs": [],
   "source": [
    "data1.plt.violin()"
   ]
  },
  {
   "cell_type": "code",
   "execution_count": null,
   "id": "be549206-847a-42f5-ade7-15581170c46b",
   "metadata": {
    "scrolled": true
   },
   "outputs": [],
   "source": [
    "data2.plt.genes_count()"
   ]
  },
  {
   "cell_type": "code",
   "execution_count": null,
   "id": "727723d5-718b-4c61-bf7b-94ae1816d93a",
   "metadata": {
    "scrolled": true
   },
   "outputs": [],
   "source": [
    "data2.plt.violin()"
   ]
  },
  {
   "cell_type": "code",
   "execution_count": null,
   "id": "587641d4-1de0-466c-88e8-ee95d4927c12",
   "metadata": {},
   "outputs": [],
   "source": [
    "data3.plt.genes_count()"
   ]
  },
  {
   "cell_type": "code",
   "execution_count": null,
   "id": "ed93b57d-800e-4fc5-a54e-6b39b77e7b20",
   "metadata": {},
   "outputs": [],
   "source": [
    "data3.plt.violin()"
   ]
  },
  {
   "cell_type": "code",
   "execution_count": null,
   "id": "72cd6862-aae1-4a30-87d8-6c3b633a875b",
   "metadata": {},
   "outputs": [],
   "source": [
    "data4.plt.genes_count()"
   ]
  },
  {
   "cell_type": "code",
   "execution_count": null,
   "id": "b67c8309-3703-4889-8508-392323eafee7",
   "metadata": {},
   "outputs": [],
   "source": [
    "data4.plt.violin()"
   ]
  },
  {
   "cell_type": "code",
   "execution_count": null,
   "id": "7f163708-98a9-47ee-9c0d-2c030fb8c765",
   "metadata": {},
   "outputs": [],
   "source": [
    "data1.tl.raw_checkpoint()\n",
    "data2.tl.raw_checkpoint()\n",
    "data3.tl.raw_checkpoint()\n",
    "data4.tl.raw_checkpoint()"
   ]
  },
  {
   "cell_type": "code",
   "execution_count": null,
   "id": "d74a49c1-3e21-46f7-8585-ebe250badd26",
   "metadata": {},
   "outputs": [],
   "source": [
    "# filter cells\n",
    "data1.tl.filter_cells(min_n_genes_by_counts=10, max_n_genes_by_counts=600, \n",
    "                      min_total_counts=200, max_total_counts=1500, \n",
    "                     pct_counts_mt=10, inplace=True)\n",
    "data2.tl.filter_cells(min_n_genes=5, max_n_genes_by_counts=500, \n",
    "                      min_total_counts=200, max_total_counts=1500, \n",
    "                      pct_counts_mt=10, inplace=True)\n",
    "data3.tl.filter_cells(min_n_genes_by_counts=5, max_n_genes_by_counts=600, \n",
    "                     min_total_counts=200, max_total_counts=1500, \n",
    "                      pct_counts_mt=5, inplace=True)\n",
    "data4.tl.filter_cells(min_n_genes=5, max_n_genes_by_counts=500, \n",
    "                      min_total_counts=200, max_total_counts=1500, \n",
    "                      pct_counts_mt=10, inplace=True)"
   ]
  },
  {
   "cell_type": "markdown",
   "id": "a20eaa28-0e0d-4bf6-a31b-a31e7d4408ea",
   "metadata": {},
   "source": [
    "# Processing on MSData"
   ]
  },
  {
   "cell_type": "code",
   "execution_count": null,
   "id": "170ac13d-9eda-4865-9693-71e4941989aa",
   "metadata": {},
   "outputs": [],
   "source": [
    "from stereo.core.ms_data import MSData\n",
    "from stereo.core.ms_pipeline import slice_generator"
   ]
  },
  {
   "cell_type": "code",
   "execution_count": null,
   "id": "49fc4f3b-d801-45b4-b210-1664fa816af6",
   "metadata": {},
   "outputs": [],
   "source": [
    "# pass name list to MSData\n",
    "name_list=['control_1','control_2','mutant_1','mutant_2']\n",
    "name_list"
   ]
  },
  {
   "cell_type": "code",
   "execution_count": null,
   "id": "72fcc487-b9f8-43d6-85c4-09db50fbafef",
   "metadata": {},
   "outputs": [],
   "source": [
    "ms_data = MSData(_data_list=[data1, data2, data3, data4])"
   ]
  },
  {
   "cell_type": "code",
   "execution_count": null,
   "id": "429b3f0c-63bc-4b39-8f55-cca369905716",
   "metadata": {},
   "outputs": [],
   "source": [
    "ms_data"
   ]
  },
  {
   "cell_type": "code",
   "execution_count": null,
   "id": "09283fae-ea4a-4f21-9d60-8f9c99e816f2",
   "metadata": {},
   "outputs": [],
   "source": [
    "ms_data.names=name_list\n",
    "ms_data"
   ]
  },
  {
   "cell_type": "markdown",
   "id": "7323b3f0-3abe-4beb-b42e-44fc2668de1a",
   "metadata": {},
   "source": [
    "# Normalization"
   ]
  },
  {
   "cell_type": "code",
   "execution_count": null,
   "id": "60943d81-094e-4d58-a891-155a027945dc",
   "metadata": {},
   "outputs": [],
   "source": [
    "# save raw data beforehand\n",
    "ms_data.tl.raw_checkpoint()"
   ]
  },
  {
   "cell_type": "code",
   "execution_count": null,
   "id": "113e8e09-7a4f-4538-b6ca-1100227770c9",
   "metadata": {},
   "outputs": [],
   "source": [
    "# ms_data.integrate() is necessarily to be performed after data loading. Default method is intersect, which means to take the intersection of genes (var) for subsequent multi-sample analysis.\n",
    "ms_data.integrate()\n",
    "ms_data"
   ]
  },
  {
   "cell_type": "code",
   "execution_count": null,
   "id": "956cd523-f7a0-4dac-b14f-0feffa1aeea5",
   "metadata": {
    "scrolled": true
   },
   "outputs": [],
   "source": [
    "ms_data.tl.cal_qc(scope=slice_generator[:],mode='integrate')\n"
   ]
  },
  {
   "cell_type": "code",
   "execution_count": null,
   "id": "40784186-5cc9-4a50-9290-88a69f771ee1",
   "metadata": {
    "scrolled": true
   },
   "outputs": [],
   "source": [
    "ms_data.plt.violin()"
   ]
  },
  {
   "cell_type": "code",
   "execution_count": null,
   "id": "4c01f7de-d2c6-4681-9c79-11de3a4334dc",
   "metadata": {
    "scrolled": true
   },
   "outputs": [],
   "source": [
    "ms_data.plt.spatial_scatter(\n",
    "            scope=slice_generator[:],\n",
    "            mode='integrate',\n",
    "            plotting_scale_width=10,          # the width of scale\n",
    "            reorganize_coordinate=2,          # the number of plots in each row\n",
    "            horizontal_offset_additional=20,  # adjustment for horizontal distance\n",
    "            vertical_offset_additional=20     # adjustment for vertical distance\n",
    "            )"
   ]
  },
  {
   "cell_type": "code",
   "execution_count": null,
   "id": "c13b9996-f626-42e9-892b-a638beff2159",
   "metadata": {},
   "outputs": [],
   "source": [
    "ms_data.tl.normalize_total(scope=slice_generator[:], mode='integrate')\n",
    "ms_data.tl.log1p(scope=slice_generator[:], mode='integrate')"
   ]
  },
  {
   "cell_type": "code",
   "execution_count": null,
   "id": "daa1a674-d3aa-4438-b67c-b03ea3b88b44",
   "metadata": {
    "scrolled": true
   },
   "outputs": [],
   "source": [
    "#Highly variable genes\n",
    "ms_data.tl.highly_variable_genes(scope=slice_generator[:],mode='integrate',min_mean=0.0125, max_mean=3,min_disp=0.5, n_top_genes=2000, res_key='highly_variable_genes')\n",
    "ms_data.tl.scale(scope=slice_generator[:],mode='integrate', zero_center=False, max_value=10)"
   ]
  },
  {
   "cell_type": "code",
   "execution_count": null,
   "id": "917bf5bf-b836-4c4c-82ba-b226c1dfd4af",
   "metadata": {},
   "outputs": [],
   "source": [
    "st.io.write_h5ms(ms_data,output='./integrate_log1p_b4PCA.h5ms')"
   ]
  },
  {
   "cell_type": "code",
   "execution_count": null,
   "id": "6846d54a-efe2-4be4-9a37-66f2c7e0311d",
   "metadata": {
    "scrolled": true
   },
   "outputs": [],
   "source": [
    "ms_data.tl.spatial_hotspot(\n",
    "                    use_highly_genes=True,\n",
    "                    use_raw=True,\n",
    "                    hvg_res_key='highly_variable_genes',\n",
    "                    model='normal',\n",
    "                    n_neighbors=30,\n",
    "                    n_jobs=20,\n",
    "                    fdr_threshold=0.05,\n",
    "                    min_gene_threshold=10,\n",
    "                    res_key='spatial_hotspot',\n",
    "                    )"
   ]
  },
  {
   "cell_type": "code",
   "execution_count": null,
   "id": "b31fe2f6-ad63-4de9-8add-365c512403ab",
   "metadata": {},
   "outputs": [],
   "source": [
    "st.io.write_h5ms(ms_data,output='./integrate_log1p_b4PCA.h5ms')"
   ]
  },
  {
   "cell_type": "code",
   "execution_count": null,
   "id": "7f11d8e0-5461-435a-87e2-fb57e1d1580a",
   "metadata": {},
   "outputs": [],
   "source": [
    "# load h5ms object\n",
    "ms_data = st.io.read_h5ms('./integrate_log1p_b4PCA.h5ms')"
   ]
  },
  {
   "cell_type": "code",
   "execution_count": null,
   "id": "27bb1246-1db6-45f7-be8c-d154fa90aa2a",
   "metadata": {},
   "outputs": [],
   "source": [
    "#Spatial hotspot is a tool for identifying informative genes or gene modules in a single-cell dataset. Importantly, ‘informative’ here is defined based on how well a gene’s variation agrees with certain cell metric - some similarity mapping between cells.\n",
    "#Genes which are informative are those whose expression varies in similar way among cells which are nearby in the given metric.\n",
    "\n",
    "ms_data.plt.hotspot_local_correlations()"
   ]
  },
  {
   "cell_type": "code",
   "execution_count": null,
   "id": "9608379e-1974-4469-a7f4-313bfee283d2",
   "metadata": {},
   "outputs": [],
   "source": [
    "ms_data.plt.hotspot_modules()"
   ]
  },
  {
   "cell_type": "markdown",
   "id": "0d600d8e-d91d-494c-b092-5d5af7af9210",
   "metadata": {},
   "source": [
    "# PCA"
   ]
  },
  {
   "cell_type": "code",
   "execution_count": null,
   "id": "5a23b9b8-00ee-4f52-a7f6-5a44716dc042",
   "metadata": {
    "scrolled": true
   },
   "outputs": [],
   "source": [
    "ms_data.tl.pca(scope=slice_generator[:], mode='integrate', use_highly_genes=False, n_pcs=30, res_key='pca')"
   ]
  },
  {
   "cell_type": "markdown",
   "id": "8e4a0575-03d3-4411-b2db-251068d4f42e",
   "metadata": {},
   "source": [
    "# Batch effect"
   ]
  },
  {
   "cell_type": "code",
   "execution_count": null,
   "id": "60930536-793c-46eb-bd07-e5449d9488b7",
   "metadata": {},
   "outputs": [],
   "source": [
    "from stereo.algorithm.batch_qc.main import BatchQc"
   ]
  },
  {
   "cell_type": "code",
   "execution_count": null,
   "id": "13c77e7b-c133-4225-b2ba-921cf10f067c",
   "metadata": {},
   "outputs": [],
   "source": [
    "# embedding\n",
    "ms_data.tl.neighbors(scope=slice_generator[:],mode='integrate', pca_res_key='pca', res_key='neighbors', n_jobs=-1)\n",
    "ms_data.tl.umap(scope=slice_generator[:],mode='integrate', pca_res_key='pca', neighbors_res_key='neighbors', res_key='umap')"
   ]
  },
  {
   "cell_type": "code",
   "execution_count": null,
   "id": "afc6fa50-3768-4a47-b093-eca6db66caaa",
   "metadata": {},
   "outputs": [],
   "source": [
    "# clustering\n",
    "ms_data.tl.leiden(scope=slice_generator[:],mode='integrate', neighbors_res_key='neighbors', res_key='leiden')"
   ]
  },
  {
   "cell_type": "code",
   "execution_count": null,
   "id": "9e911c21-ed42-42e4-82e9-f8200733d1ff",
   "metadata": {},
   "outputs": [],
   "source": [
    "# Batch evaluation\n",
    "ms_data.tl.batch_qc(scope=slice_generator[:],mode='integrate', cluster_res_key='leiden', report_path='./batch_qc', res_key='batch_qc')"
   ]
  },
  {
   "cell_type": "code",
   "execution_count": null,
   "id": "ee8ece94-d659-47f6-8fc6-efdda8a63432",
   "metadata": {},
   "outputs": [],
   "source": [
    "# Display report\n",
    "ms_data.plt.show_batch_qc_report(scope=slice_generator[:], mode='integrate', res_key='batch_qc')"
   ]
  },
  {
   "cell_type": "markdown",
   "id": "b0be217d-5507-42ee-9efa-e0ebbf12964a",
   "metadata": {},
   "source": [
    "# Integrating with batch correction using Harmony"
   ]
  },
  {
   "cell_type": "code",
   "execution_count": null,
   "id": "c17c893c-8182-4dde-a367-95539483368e",
   "metadata": {
    "scrolled": true
   },
   "outputs": [],
   "source": [
    "ms_data.tl.batches_integrate(scope=slice_generator[:], mode='integrate', pca_res_key='pca', res_key='pca_integrated')"
   ]
  },
  {
   "cell_type": "markdown",
   "id": "9ffd299f-8143-4029-a4f4-12067f540f79",
   "metadata": {},
   "source": [
    "# UMAP"
   ]
  },
  {
   "cell_type": "code",
   "execution_count": null,
   "id": "9d962db2-85a0-4995-8e07-c864bc9966c4",
   "metadata": {
    "scrolled": true
   },
   "outputs": [],
   "source": [
    "ms_data.tl.neighbors(scope=slice_generator[:], mode='integrate', pca_res_key='pca_integrated', n_pcs=30, res_key='neighbors_integrated', n_jobs=-1)\n",
    "ms_data.tl.umap(scope=slice_generator[:], mode='integrate', pca_res_key='pca_integrated', neighbors_res_key='neighbors_integrated', res_key='umap_integrated')\n",
    "ms_data.plt.batches_umap(scope=slice_generator[:], mode='integrate', res_key='umap_integrated')"
   ]
  },
  {
   "cell_type": "markdown",
   "id": "983022df-cc2b-4b4a-9bb1-f4ef59ed893a",
   "metadata": {},
   "source": [
    "# Clustering"
   ]
  },
  {
   "cell_type": "code",
   "execution_count": null,
   "id": "788b3311-89de-46ab-9b52-7a89232649d4",
   "metadata": {},
   "outputs": [],
   "source": [
    "ms_data.tl.leiden(scope=slice_generator[:], mode='integrate', neighbors_res_key='neighbors_integrated',\n",
    "                  resolution=0.4, res_key='leiden0.4')\n",
    "#ms_data.tl.leiden(scope=slice_generator[:], mode='integrate', neighbors_res_key='umap_integrated',\n",
    "#                  resolution=1.0, res_key='leiden1.0')"
   ]
  },
  {
   "cell_type": "code",
   "execution_count": null,
   "id": "eaa09b99-11c9-4e24-8d84-66be20de2cba",
   "metadata": {},
   "outputs": [],
   "source": [
    "ms_data.plt.cluster_scatter(\n",
    "            res_key='leiden0.4',\n",
    "            scope=slice_generator[:],\n",
    "            mode='integrate',\n",
    "            plotting_scale_width=10,          # the width of scale\n",
    "            reorganize_coordinate=2,          # the number of plots in each row\n",
    "            horizontal_offset_additional=20,  # adjustment for horizontal distance\n",
    "            vertical_offset_additional=20     # adjustment for vertical distance\n",
    "            )"
   ]
  },
  {
   "cell_type": "code",
   "execution_count": null,
   "id": "49d242cc-e96f-4dde-941a-5a7f17e3c968",
   "metadata": {
    "scrolled": true
   },
   "outputs": [],
   "source": [
    "ms_data.plt.cluster_scatter(\n",
    "            res_key='leiden0.4',\n",
    "            scope=slice_generator[:],\n",
    "            mode='integrate',\n",
    "            plotting_scale_width=10,          # the width of scale\n",
    "            reorganize_coordinate=2,          # the number of plots in each row\n",
    "            horizontal_offset_additional=20,  # adjustment for horizontal distance\n",
    "            vertical_offset_additional=20,     # adjustment for vertical distance\n",
    "            groups=['9', '10'])"
   ]
  },
  {
   "cell_type": "code",
   "execution_count": null,
   "id": "e43f1898-f458-4341-b3a8-f2882bc4bd04",
   "metadata": {
    "scrolled": true
   },
   "outputs": [],
   "source": [
    "ms_data.plt.interact_cluster(res_key='leiden0.4',\n",
    "                             scope=slice_generator[:],\n",
    "            mode='integrate',\n",
    "            #plotting_scale_width=10,          # the width of scale\n",
    "            reorganize_coordinate=2,          # the number of plots in each row\n",
    "            horizontal_offset_additional=20,  # adjustment for horizontal distance\n",
    "            vertical_offset_additional=20)     # adjustment for vertical distance)"
   ]
  },
  {
   "cell_type": "code",
   "execution_count": null,
   "id": "7d26392e-f3c8-4b3c-974c-0646ff3a75a7",
   "metadata": {},
   "outputs": [],
   "source": [
    "ms_data.plt.umap(\n",
    "            cluster_key='leiden0.4',\n",
    "            res_key='umap_integrated',\n",
    "            scope=slice_generator[:],\n",
    "            mode='integrate'\n",
    "            )"
   ]
  },
  {
   "cell_type": "markdown",
   "id": "7b84c794-b1fe-4a9f-ac7d-7cf12ef24659",
   "metadata": {},
   "source": [
    "# Save output file as h5ms"
   ]
  },
  {
   "cell_type": "code",
   "execution_count": null,
   "id": "0a3f2352-bc65-4bcb-84dd-758f12f082cb",
   "metadata": {},
   "outputs": [],
   "source": [
    "st.io.write_h5ms(ms_data,output='./integrate_res0.4_log1p.h5ms')"
   ]
  },
  {
   "cell_type": "code",
   "execution_count": null,
   "id": "7a43f534-915c-47b8-994b-0abfaa9a418d",
   "metadata": {},
   "outputs": [],
   "source": [
    "# load h5ms object\n",
    "ms_data = st.io.read_h5ms('./integrate_res0.4_log1p.h5ms')"
   ]
  },
  {
   "cell_type": "markdown",
   "id": "9478374f-5025-475c-9264-5fd1eb09e2aa",
   "metadata": {},
   "source": [
    "# Find Marker Genes"
   ]
  },
  {
   "cell_type": "code",
   "execution_count": null,
   "id": "60bb0957-feed-4d42-a37f-dfb2b4a54470",
   "metadata": {},
   "outputs": [],
   "source": [
    "ms_data.tl.find_marker_genes(cluster_res_key='leiden0.4', use_highly_genes=False, use_raw =False, method = 't_test', sort_by = 'scores',\n",
    "                            res_key='marker_genes_{}'.format('leiden0.4'.replace('leiden', 'ld')), output='all_markers_lasso_res0.4.csv')\n",
    "#ms_data.tl.filter_marker_genes(marker_genes_res_key='marker_genes_{}'.format('leiden0.4'.replace('leiden', 'ld')), \n",
    "#                              min_fold_change=0.25, #min_in_group_fraction=0.25, #max_out_group_fraction=0.5,\n",
    "#                              compare_abs=False, res_key='marker_genes_filtered_{}'.format(cls_key.replace('leiden', 'ld')),\n",
    "#                              output='all_markers_filtered_FC0.25_res0.4.csv')"
   ]
  },
  {
   "cell_type": "code",
   "execution_count": null,
   "id": "d996e5db-b311-4a82-b78c-475be4ee49e8",
   "metadata": {},
   "outputs": [],
   "source": [
    "print( ms_data.merged_data.tl.result['marker_genes_ld0.4'].keys())\n",
    "print( ms_data.merged_data.tl.result['marker_genes_ld0.4']['1.vs.rest'].head())\n",
    "print( ms_data.merged_data.tl.result['marker_genes_ld0.4']['1.vs.rest'].isna().sum())"
   ]
  },
  {
   "cell_type": "code",
   "execution_count": null,
   "id": "2559f2db-7b61-4a26-a444-f0da54851a0e",
   "metadata": {
    "scrolled": true
   },
   "outputs": [],
   "source": [
    "ms_data.plt.marker_genes_heatmap(res_key = 'marker_genes_ld0.4')"
   ]
  },
  {
   "cell_type": "markdown",
   "id": "c0d6893c-354f-4cd0-bcb0-e4e1c0f25481",
   "metadata": {},
   "source": [
    "# Annotation with cell labels"
   ]
  },
  {
   "cell_type": "code",
   "execution_count": null,
   "id": "366faa99-8c95-494c-92b2-d3f1addb9510",
   "metadata": {},
   "outputs": [],
   "source": [
    "# read data\n",
    "ref_file = 'MouseRNAseqData.h5ad'\n",
    "ref = st.io.read_h5ad(ref_file)"
   ]
  },
  {
   "cell_type": "code",
   "execution_count": null,
   "id": "f6a52cda-98ac-47c7-aa68-d1c956009e2f",
   "metadata": {
    "scrolled": true
   },
   "outputs": [],
   "source": [
    "ms_data.tl.single_r(\n",
    "    ref_exp_data=ref,\n",
    "    ref_use_col='label.main',\n",
    "    res_key='annotation',\n",
    "    fine_tune_times=1,\n",
    "    n_jobs=40\n",
    ")"
   ]
  },
  {
   "cell_type": "code",
   "execution_count": null,
   "id": "c524c2cf-660f-40fd-a56c-7a85e9391691",
   "metadata": {},
   "outputs": [],
   "source": [
    "ms_data.plt.cluster_scatter(res_key='annotation')"
   ]
  },
  {
   "cell_type": "code",
   "execution_count": null,
   "id": "903ec821-5923-4e39-9f7d-6564ae30af0d",
   "metadata": {},
   "outputs": [],
   "source": [
    "st.io.write_h5ms(ms_data,output='./integrate_lasso_res0.4_annotation.h5ms')"
   ]
  },
  {
   "cell_type": "markdown",
   "id": "1aa746a9-a64e-476b-855d-ad1fcb696253",
   "metadata": {},
   "source": [
    "# DEG analysis"
   ]
  },
  {
   "cell_type": "code",
   "execution_count": null,
   "id": "f73d4a46-cc1e-4d22-8667-f5957ca5c1b3",
   "metadata": {},
   "outputs": [],
   "source": [
    "# load h5ms object\n",
    "ms_data = st.io.read_h5ms('./integrate_res0.4_log1p.h5ms')\n",
    "ms_data"
   ]
  },
  {
   "cell_type": "code",
   "execution_count": null,
   "id": "2a2c2df1-ed2f-46c7-9c70-b2d8d6f7428d",
   "metadata": {},
   "outputs": [],
   "source": [
    "# Ensure that leiden clustering results exist\n",
    "print(type(ms_data.tl.result['leiden0.4']))\n",
    "print(ms_data.tl.result['leiden0.4'].head())  # Inspect the first few rows"
   ]
  },
  {
   "cell_type": "code",
   "execution_count": null,
   "id": "5d1c2aff-56e4-4054-bd99-607fdd088c52",
   "metadata": {},
   "outputs": [],
   "source": [
    "print(\"Available Leiden clusters:\", ms_data.tl.result['leiden0.4']['group'].unique())"
   ]
  },
  {
   "cell_type": "code",
   "execution_count": null,
   "id": "45024a22-d3b7-4cd7-a13a-baa42f14e43f",
   "metadata": {},
   "outputs": [],
   "source": [
    "ms_data"
   ]
  },
  {
   "cell_type": "code",
   "execution_count": null,
   "id": "2dfb766e-6c87-41b6-9b4e-28ee075e3c68",
   "metadata": {},
   "outputs": [],
   "source": [
    "# Define sample groups\n",
    "control_samples = ['0','1']\n",
    "mutant_samples = ['2','3']"
   ]
  },
  {
   "cell_type": "code",
   "execution_count": null,
   "id": "fa717acf-2c9e-441e-be2c-fe005769373a",
   "metadata": {},
   "outputs": [],
   "source": [
    "# Create a metadata label for sample groups\n",
    "sample_labels = ms_data.obs['batch'].copy()\n",
    "print(sample_labels)"
   ]
  },
  {
   "cell_type": "code",
   "execution_count": null,
   "id": "40ab15eb-2971-4761-ba4b-353704a686a8",
   "metadata": {},
   "outputs": [],
   "source": [
    "sample_labels = sample_labels.replace(control_samples, 'control').replace(mutant_samples, 'mutant')\n",
    "print(sample_labels)"
   ]
  },
  {
   "cell_type": "code",
   "execution_count": null,
   "id": "b7a1353e-89a7-4a7e-8567-3b40892789f2",
   "metadata": {},
   "outputs": [],
   "source": [
    "# Add the sample group label to ms_data\n",
    "ms_data.obs['condition'] = sample_labels"
   ]
  },
  {
   "cell_type": "code",
   "execution_count": null,
   "id": "7b1da1f8-997b-42c1-bd79-83be15c8a518",
   "metadata": {},
   "outputs": [],
   "source": [
    "print(ms_data.obs['condition'])"
   ]
  },
  {
   "cell_type": "code",
   "execution_count": null,
   "id": "83ee2d95-127a-438f-aad3-18f4aec7fd57",
   "metadata": {},
   "outputs": [],
   "source": [
    "ms_data.obs['condition_cluster'] = ms_data.obs['condition'].astype(str) + '_' + ms_data.obs['leiden0.4'].astype(str)"
   ]
  },
  {
   "cell_type": "code",
   "execution_count": null,
   "id": "88b85aa9-32eb-478c-9b44-123419a94d29",
   "metadata": {},
   "outputs": [],
   "source": [
    "print(ms_data.obs['condition_cluster'])"
   ]
  },
  {
   "cell_type": "code",
   "execution_count": null,
   "id": "f2b560a8-80fe-4cf5-9623-0660fba1cf46",
   "metadata": {},
   "outputs": [],
   "source": [
    "# Perform Differential Expression Analysis (DEG), repeat for each cluster\n",
    "ms_data.tl.find_marker_genes(\n",
    "    cluster_res_key='condition_cluster',  # Compare \"control\" vs \"mutant\"\n",
    "    method='t_test',            # Use t test\n",
    "    case_groups=['mutant_1'],   # replace the number for other clusters\n",
    "    control_groups=['control_1'], # replace the number for other clusters\n",
    "    use_raw=True, res_key='DEGs', \n",
    "    output='DEGs_ctrl_vs_mut_cluster1_res0.4.csv',  # replace the number for other clusters\n",
    ")"
   ]
  },
  {
   "cell_type": "code",
   "execution_count": null,
   "id": "f2af22c1-eb59-4a63-aa83-94dd24b97e55",
   "metadata": {},
   "outputs": [],
   "source": [
    "#print( ms_data.merged_data.tl.result['DEGs'].keys())\n",
    "#print( ms_data.merged_data.tl.result['DEGs']['mutant_1.vs.control_1'].head())\n",
    "#print( ms_data.merged_data.tl.result['DEGs']['mutant_1.vs.control_1'].isna().sum())"
   ]
  }
 ],
 "metadata": {
  "kernelspec": {
   "display_name": "Python 3 (ipykernel)",
   "language": "python",
   "name": "python3"
  },
  "language_info": {
   "codemirror_mode": {
    "name": "ipython",
    "version": 3
   },
   "file_extension": ".py",
   "mimetype": "text/x-python",
   "name": "python",
   "nbconvert_exporter": "python",
   "pygments_lexer": "ipython3",
   "version": "3.8.19"
  }
 },
 "nbformat": 4,
 "nbformat_minor": 5
}
